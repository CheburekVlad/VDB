{
 "cells": [
  {
   "cell_type": "code",
   "execution_count": 1,
   "id": "7270b8cf",
   "metadata": {},
   "outputs": [],
   "source": [
    "import numpy as np\n",
    "%matplotlib inline\n",
    "import matplotlib.pyplot as plt"
   ]
  },
  {
   "cell_type": "markdown",
   "id": "dab79adf",
   "metadata": {},
   "source": [
    "# Rappel de l'API matplotlib\n",
    "\n",
    "### Numpy\n",
    "On utilisera souvent la librairie numpy an appoint à matplotlib, par exemple, pour générer des séries de points necessaires aux représentations graphiques.\n",
    "```python\n",
    "import numpy as np\n",
    "```\n",
    "#### Génération de séries de valeurs: échantillons de valeurs dans deux lois normales [np.random](https://numpy.org/doc/stable/reference/random/index.html)\n",
    "###### N_x(mu=1, sigma = 0.2) et N_y(mu=0, sigma=1)\n",
    "Deux échantillons de tailles 1000 peuvent être générés ainsi\n",
    "```python\n",
    "x_data = np.random.normal(1, 0.2, 1000)\n",
    "y_data = np.random.normal(0, 0.1, 1000)\n",
    "```\n",
    "Et dessinés ainsi,\n",
    "```python\n",
    "fig1, ax1 = plt.subplots(figsize=(4,4))\n",
    "ax1.scatter(x_data, y_data)\n",
    "ax1.set_xlabel(\"Mon abscisse\")\n",
    "\n",
    "```\n",
    "\n",
    "<span style=\"color:green;font-weight:bold\">$\\uparrow$ Reproduire cet exemple dans la cellule ci-dessous.</span>\n",
    "<h5>PUIS</h5>\n",
    "\n",
    "<span style=\"color:firebrick;font-weight:bold\"> $\\rhd$  Réaliser ce graphique dans une cellule suivante et ajouter des [légendes au axes](https://matplotlib.org/stable/api/_as_gen/matplotlib.axes.Axes.set_title.html) mentionnant les moyennes et écarts-type des distributions utilisées.</span>\n"
   ]
  },
  {
   "cell_type": "markdown",
   "id": "9ae778c7",
   "metadata": {},
   "source": [
    "### Plus de représentations graphiques\n",
    "MATPLOTLIB permet de représenter graphiquement des séries de nombres que nous lui fournissons **explicitement**.\n",
    "\n",
    "Dans le cas précédent, *x_data* et *y_data* pour les valeurs des points en abscisse et ordonnée respectivement.\n",
    "\n",
    "TOUT graphique doit débuter par un appel à la méthode *subplots* de l'objet *matplotlib.pyplot* (ici nommé *plt*).\n",
    "\n",
    "`fig, ax = plt.subplots()`\n",
    "- `fig` est un objet [Figure](https://matplotlib.org/stable/api/figure_api.html) qui controle les paramètres de toute la figure\n",
    "- `ax` est **un ou des** objets [Axes](https://matplotlib.org/stable/api/axes_api.html#basic), **chaque objet \"Axes\" controlant un seul graphique**\n",
    "\n",
    "#### Superposer plusieurs graphiques\n",
    "\n",
    "Les appels successifs au même objet Axes pour différent graphiques vont les superposer.\n",
    "En reprenant l'exemple précédent, dessinons deux nuages de points sur le même graphique.\n",
    "```python\n",
    "x1_data = np.random.normal(1, 0.2, 50)\n",
    "y1_data = np.random.normal(0, 0.2, 50)\n",
    "\n",
    "x2_data = np.random.normal(0.5, 0.2, 50)\n",
    "y2_data = np.random.normal(-3, 0.1, 50)\n",
    "```\n",
    "Puis dessinons les successivement sur le **même objet \"Axes\"**.\n",
    "\n",
    "$\\rightarrow$ Profitons en pour découvrir\n",
    "* le paramètre *marker* de la fonction *Axes.scatter*\n",
    "* la méthode *Figure.legend()* en combinaison avec le paramètre *label*\n",
    "\n",
    "(https://matplotlib.org/stable/api/markers_api.html?highlight=marker#module-matplotlib.markers)\n",
    "```python\n",
    "fig2, ax2 = plt.subplots(figsize=(4,4))\n",
    "ax2.scatter(x1_data, y1_data, label=\"dataset1\")\n",
    "ax2.scatter(x2_data, y2_data, marker=\"X\")\n",
    "\n",
    "fig2.legend(loc='upper left')\n",
    "```\n",
    "<span style=\"color:green;font-weight:bold\">$\\uparrow$ Reproduire cet exemple dans la cellule ci-dessous. Vous oberverez que deux couleurs différentes sont automatiquement utilisées. Le paramètre *color* peut aussi permettre de spécifier une couleur.</span>\n",
    "<h5>PUIS</h5>\n",
    "\n",
    "<span style=\"color:firebrick;font-weight:bold\"> $\\rhd$  Réaliser ce graphique dans une cellule suivante en utilisant la même couleur mais des symboles différents pour les deux jeux de points.  La légende de la figure mentionnera les  couples {moyenne, écart-type} des deux jeux de données.</span>"
   ]
  },
  {
   "cell_type": "markdown",
   "id": "f0e1295c",
   "metadata": {},
   "source": [
    "### Représentation de fonctions continues\n",
    "\n",
    "Ces graphiques sont produits par la méthode [Axes.plot](https://matplotlib.org/stable/api/_as_gen/matplotlib.axes.Axes.plot.html?highlight=plot#matplotlib.axes.Axes.plot)\n",
    "\n",
    "Elles necessite un ensemble discret de valeur de x et y, la fonction plot se chargeant d'interpoler la courbe entre chaque valeur. On devra donc:\n",
    "- générer un ensemble de valeurs dans le domaine de la fonction\n",
    "- appliquer la fonction à chacune de ces valeurs pour produire le \"co-domaine\"\n",
    "- passer les listes de valeurs du domaine et du co-domaine à *Axes.plot*\n",
    "\n",
    "\n",
    "#####  Séries de valeurs également réparties entre deux bornes à l'aide de [np.linspace](https://numpy.org/doc/stable/reference/generated/numpy.linspace.html)\n",
    "\n",
    "Cette fonction numpy est essentielle pour représenter le domaine des fonctions continues. Par exemple, générons 1000 valeurs dans l'intervalle \\[-10;10\\].\n",
    "\n",
    "```python\n",
    "x  = np.linspace(-10, 10, 10000)\n",
    "```\n",
    "Puis appliquons à \"ce domaine\" les fonctions *cos(x)* et sin(x).\n",
    "```python\n",
    "y1 = np.cos(x)\n",
    "y2 = np.sin(x)\n",
    "```\n",
    "\n",
    "##### Grille de graphiques\n",
    "L'organisation de plusieurs graphiques dans une figure est controlée par les paramètre *ncols* et \"nrows\".\n",
    "\n",
    "```python\n",
    "fig3, ax3 = plt.subplots(figsize=(8,4),nrows = 1, ncols = 2)\n",
    "````\n",
    "\n",
    "Puis dessinons deux graphiques dans la même figure:\n",
    "- Le dessin de gauche (*ax3[0]*) étant la fonction cos(x), entre -10 et 10 en vert épais.\n",
    "- Le dessin de droite (*ax3[1]*) étant la fonction sinx(x) entre -10 et 10 en traits d'union.\n",
    "\n",
    "```python\n",
    "fig3, ax3 = plt.subplots(figsize=(8,4),nrows = 1, ncols = 2)\n",
    "ax3[0].plot(x, y1, color='green', linewidth=2)\n",
    "ax3[1].plot(x, y2, linestyle='dashed')\n",
    "```\n",
    "\n",
    "<span style=\"color:green;font-weight:bold\">$\\uparrow$ Reproduire cet exemple dans la cellule ci-dessous. Comme plusieurs graphiques sont produits, la variable `ax3` ci-dessous devient **une liste (de liste) d'objet Axes** !!!. <br/>$\\Rightarrow$Assurez-vous en inspectant l'objet ax3</span>\n",
    "<h5>PUIS</h5>\n",
    "\n",
    "<span style=\"color:firebrick;font-weight:bold\"> $\\rhd$ Rajouter une [grille](https://matplotlib.org/stable/api/_as_gen/matplotlib.axes.Axes.grid.html) au graphique de droite et le titre de la fonction trigonometrique à chaque graphique.</span>"
   ]
  },
  {
   "cell_type": "code",
   "execution_count": null,
   "id": "c1d21e12",
   "metadata": {},
   "outputs": [],
   "source": []
  },
  {
   "cell_type": "markdown",
   "id": "25aebb28",
   "metadata": {},
   "source": [
    "<span style=\"color:firebrick;font-weight:bold\"> $\\rhd$ Dessiner la grille de 4 graphiques suivante en ajoutant un titre et des couleurs, epaisseurs et lignes différentes à chaque graphique. Les représentations couvriront le domaine [15; 15]. </span>\n",
    "\n",
    "<table>\n",
    "<tr> <td>cos(x)</td><td>sin(x)</td></tr>\n",
    "<tr> <td>arctan(x)</td><td>tan(x)</td></tr>\n",
    "</table>"
   ]
  },
  {
   "cell_type": "code",
   "execution_count": null,
   "id": "f1747778",
   "metadata": {},
   "outputs": [],
   "source": []
  },
  {
   "cell_type": "markdown",
   "id": "938704c7",
   "metadata": {},
   "source": [
    "### <span style=\"color:green;\">C'est tout pour cette Introduction</span>\n",
    "### <span style=\"color:green;\">N'hesitez pas à jouer avec certains paramètres de cette dernière figure et observer leurs effets</span>\n",
    "### <span style=\"color:green;\">Vous pourrez ensuite passer au TP1</span>"
   ]
  },
  {
   "cell_type": "code",
   "execution_count": null,
   "id": "f77c4949",
   "metadata": {},
   "outputs": [],
   "source": []
  }
 ],
 "metadata": {
  "kernelspec": {
   "display_name": "Python [conda env:anaconda3-tp-interactomics]",
   "language": "python",
   "name": "conda-env-anaconda3-tp-interactomics-py"
  },
  "language_info": {
   "codemirror_mode": {
    "name": "ipython",
    "version": 3
   },
   "file_extension": ".py",
   "mimetype": "text/x-python",
   "name": "python",
   "nbconvert_exporter": "python",
   "pygments_lexer": "ipython3",
   "version": "3.8.0"
  }
 },
 "nbformat": 4,
 "nbformat_minor": 5
}
