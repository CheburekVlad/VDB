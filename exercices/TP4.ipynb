{
 "cells": [
  {
   "cell_type": "markdown",
   "metadata": {},
   "source": [
    "# Création d'un scatter plot (plus) interactif\n",
    "\n",
    "## IPYWIDGET\n",
    "\n",
    "Nous allons maitenant explorer la librarie [ipywidget](https://ipywidgets.readthedocs.io/en/latest/index.html).\n",
    "Elle permet la construction d'un interface utilisateur dans les cellules du notebook. Elle peut prendre en charge:\n",
    "* [La création d'éléments](https://ipywidgets.readthedocs.io/en/latest/examples/Widget%20List.html)(les *widgets*) comme un bouton ou un slider\n",
    "* [L'organisation des éléments](https://ipywidgets.readthedocs.io/en/latest/examples/Layout%20Templates.html) dans la cellule d'affichage de Jupyter\n",
    "* L'expression de lien entres widgets et figures matplotlib pour permettre d'interagire avec ces images.\n",
    "\n",
    "L'objectif est de fournir ici une introduction à ce module. Une description plus complète devra être consultée [ici](https://ipywidgets.readthedocs.io/en/latest/). Un tutoriel récent est accessible [ici](https://kapernikov.com/ipywidgets-with-matplotlib/)"
   ]
  },
  {
   "cell_type": "code",
   "execution_count": 1,
   "metadata": {},
   "outputs": [
    {
     "data": {
      "text/plain": [
       "'3.5.1'"
      ]
     },
     "execution_count": 1,
     "metadata": {},
     "output_type": "execute_result"
    }
   ],
   "source": [
    "import matplotlib\n",
    "matplotlib.__version__"
   ]
  },
  {
   "cell_type": "code",
   "execution_count": 2,
   "metadata": {},
   "outputs": [],
   "source": [
    "%matplotlib notebook"
   ]
  },
  {
   "cell_type": "markdown",
   "metadata": {},
   "source": [
    "### Quelques exemples de widgets\n",
    "Jupyter fournit un grand nombre de [widgets](https://ipywidgets.readthedocs.io/en/stable/examples/Widget%20List.html) pour permettre la selection et l'affichage de valeurs ou selection de variables. "
   ]
  },
  {
   "cell_type": "markdown",
   "metadata": {},
   "source": [
    "#### widget simple"
   ]
  },
  {
   "cell_type": "code",
   "execution_count": 3,
   "metadata": {},
   "outputs": [
    {
     "data": {
      "application/vnd.jupyter.widget-view+json": {
       "model_id": "8e04370a21294e7291a5f2d62aa35f1d",
       "version_major": 2,
       "version_minor": 0
      },
      "text/plain": [
       "IntSlider(value=0)"
      ]
     },
     "metadata": {},
     "output_type": "display_data"
    }
   ],
   "source": [
    "#import ipywidgets as widgets\n",
    "import ipywidgets \n",
    "from IPython.display import display\n",
    "w = ipywidgets.IntSlider()\n",
    "display(w)"
   ]
  },
  {
   "cell_type": "markdown",
   "metadata": {},
   "source": [
    "#### widgets combinés"
   ]
  },
  {
   "cell_type": "code",
   "execution_count": 4,
   "metadata": {},
   "outputs": [
    {
     "data": {
      "application/vnd.jupyter.widget-view+json": {
       "model_id": "df191dd6149a41e293afce97d7c8c752",
       "version_major": 2,
       "version_minor": 0
      },
      "text/plain": [
       "FloatText(value=0.0)"
      ]
     },
     "metadata": {},
     "output_type": "display_data"
    },
    {
     "data": {
      "application/vnd.jupyter.widget-view+json": {
       "model_id": "4762414c9b444724aeda3eaa952d8c2e",
       "version_major": 2,
       "version_minor": 0
      },
      "text/plain": [
       "FloatSlider(value=0.0)"
      ]
     },
     "metadata": {},
     "output_type": "display_data"
    }
   ],
   "source": [
    "a = ipywidgets.FloatText()\n",
    "b = ipywidgets.FloatSlider()\n",
    "display(a,b)\n",
    "\n",
    "mylink = ipywidgets.jslink((a, 'value'), (b, 'value'))"
   ]
  },
  {
   "cell_type": "markdown",
   "metadata": {},
   "source": [
    "#### Inférence du widget avec interact\n",
    "On peut se passer d'un construteur et demander à Jupyter d'inférer le widget adapté à une variable. Pour ce faire, on passera cette variable en paramètre de la fonction **interact**, dans ce cas un nombre *w* flottant. Dans le corps de la fonction *update*, on va spécifier les actions à effectuer lorsque l'état du widget change, ici modifier une figure."
   ]
  },
  {
   "cell_type": "code",
   "execution_count": null,
   "metadata": {},
   "outputs": [],
   "source": [
    "from ipywidgets import interact\n",
    "import numpy as np\n",
    "import matplotlib.pyplot as plt\n",
    "\n",
    "x = np.linspace(0, 2 * np.pi)\n",
    "fig = plt.figure()\n",
    "# Set to True to display figure toolbar\n",
    "fig.canvas.toolbar_visible=False\n",
    "ax = fig.add_subplot(1, 1, 1)\n",
    "line, = ax.plot(x, np.sin(x))\n",
    "\n",
    "def update(w = 1.0):\n",
    "    line.set_ydata(np.sin(w * x))\n",
    "    fig.canvas.draw_idle()\n",
    "\n",
    "interact(update);"
   ]
  },
  {
   "cell_type": "markdown",
   "metadata": {},
   "source": [
    "Jupyter construit le widget adapté au paramètre de la fonction interact. Ici une liste."
   ]
  },
  {
   "cell_type": "code",
   "execution_count": null,
   "metadata": {},
   "outputs": [],
   "source": [
    "x = np.linspace(0, 2 * np.pi)\n",
    "fig = plt.figure()\n",
    "fig.canvas.toolbar_visible=False\n",
    "ax = fig.add_subplot(1, 1, 1)\n",
    "line, = ax.plot(x, np.sin(x))\n",
    "\n",
    "def update(w=[1,3,6]):\n",
    "    line.set_ydata(np.sin(w * x))\n",
    "    fig.canvas.draw_idle()\n",
    "\n",
    "interact(update);"
   ]
  },
  {
   "cell_type": "markdown",
   "metadata": {},
   "source": [
    "**Interact** peut aussi prendre en argument un **widget construit explicitement**. Ainsi, l'exemple suivant se comportera de manière identique au précédent."
   ]
  },
  {
   "cell_type": "code",
   "execution_count": null,
   "metadata": {},
   "outputs": [],
   "source": [
    "wDrop = ipywidgets.Dropdown(\n",
    "    options=[1,3,6],\n",
    "    value=1,\n",
    "    description='Number:',\n",
    "    disabled=False,\n",
    ")\n",
    "\n",
    "x = np.linspace(0, 2 * np.pi)\n",
    "fig = plt.figure()\n",
    "fig.canvas.toolbar_visible=False\n",
    "ax = fig.add_subplot(1, 1, 1)\n",
    "line, = ax.plot(x, np.sin(x))\n",
    "\n",
    "def update(w=wDrop):\n",
    "    line.set_ydata(np.sin(w * x))\n",
    "    fig.canvas.draw_idle()\n",
    "\n",
    "interact(update)"
   ]
  },
  {
   "cell_type": "markdown",
   "metadata": {},
   "source": [
    "## Contrôle des widgets\n",
    "\n",
    "Le modèle de widgets de Jupyter permet de controler précisement leurs apparence et leurs dispositions.\n",
    "\n",
    "L'apparence d'un widget est controlée par son attribut **style**.\n",
    "```python\n",
    "b1 = Button(description='Custom color')\n",
    "b1.style.button_color = 'lightgreen'\n",
    "b1\n",
    "```\n",
    "\n",
    "![caption](../figs/wstyle.png)\n",
    "Ces attributs ne sont pas des termes CSS mais leurs émulations python. Pour connaitre la liste des attributs de style d'un widget on procédera ainsi:\n",
    "```python\n",
    "b1.style.keys\n",
    "\n",
    "['_model_module',\n",
    " '_model_module_version',\n",
    " '_model_name',\n",
    " '_view_count',\n",
    " '_view_module',\n",
    " '_view_module_version',\n",
    " '_view_name',\n",
    " 'button_color',\n",
    " 'font_weight']\n",
    "```\n",
    "\n",
    "A noter que les attributs style peuvent être définis de façon equivalente à la construction.\n",
    "```python\n",
    "b1 = Button(description='Custom color',style=ButtonStyle(button_color='lightgreen'))\n",
    "b1\n",
    "```\n",
    "![caption](../figs/wstyle.png)\n",
    "\n",
    "## Disposition spatiale des widgets\n",
    "\n",
    "Le positionnement individuel des widgets est contrôlé par le paramètre **layout**. Exemple de  création d'un bouton de hauteur et largeur 80px.\n",
    "```python\n",
    " b=Button(description='my awesome button',\n",
    "           layout=Layout(width='50%', height='80px'))\n",
    "```\n",
    "L'ensemble des valeurs de positionnement est accessible de manière analogue aux valeurs de **style**.\n",
    "```python\n",
    "b1.layout.keys\n",
    "[ ...\n",
    " 'align_content',\n",
    " 'align_items',\n",
    " 'align_self',\n",
    " 'border',\n",
    " 'bottom',\n",
    " 'display',\n",
    " ...\n",
    " 'overflow_x',\n",
    " 'overflow_y',\n",
    " 'padding',\n",
    " 'right',\n",
    " 'top',\n",
    " 'visibility',\n",
    " 'width']\n",
    "```\n",
    "\n",
    "L'organisation de plusieurs widgets peut être [contrôlée à bas niveau](https://ipywidgets.readthedocs.io/en/stable/examples/Widget%20Styling.html#The-Flexbox-layout) par les classes `Hbox` et `Vbox`. Cependant, pour les besoins de ce TP, nous leurs préférerons les trois méthodes suivantes, de plus \"haut niveau\".\n",
    "\n",
    "#### GridBox\n",
    "Cette méthode est une implémentation python de [l'affichage en grille de CSS](https://css-tricks.com/snippets/css/complete-guide-grid/). Elle est illustrée dans l'exemple ci-dessous\n",
    "```python\n",
    "from ipywidgets import Button, GridBox, Layout, ButtonStyle\n",
    "header  = Button(description='Header',\n",
    "                 layout=Layout(width='auto', grid_area='header'),\n",
    "                 style=ButtonStyle(button_color='lightblue'))\n",
    "main    = Button(description='Main',\n",
    "                 layout=Layout(width='auto', grid_area='main'),\n",
    "                 style=ButtonStyle(button_color='moccasin'))\n",
    "sidebar = Button(description='Sidebar',\n",
    "                 layout=Layout(width='auto', grid_area='sidebar'),\n",
    "                 style=ButtonStyle(button_color='salmon'))\n",
    "footer  = Button(description='Footer',\n",
    "                 layout=Layout(width='auto', grid_area='footer'),\n",
    "                 style=ButtonStyle(button_color='olive'))\n",
    "\n",
    "GridBox(children=[header, main, sidebar, footer],\n",
    "        layout=Layout(\n",
    "            width='50%',\n",
    "            grid_template_rows='auto auto auto',\n",
    "            grid_template_columns='25% 25% 25% 25%',\n",
    "            grid_template_areas='''\n",
    "            \"header header header header\"\n",
    "            \"main main . sidebar \"\n",
    "            \"footer footer footer footer\"\n",
    "            ''')\n",
    "       )\n",
    "```\n",
    "![caption](../figs/gridbox.png)\n",
    "\n",
    "#### AppLayout\n",
    "D'utilsation plus simple, [cette méthode](https://ipywidgets.readthedocs.io/en/stable/examples/Layout%20Templates.html) propose  une disposition en header, footer, panneau central et barres latérales.\n",
    "\n",
    "```python\n",
    "from ipywidgets import AppLayout, Button, Layout\n",
    "def create_expanded_button(description, button_style):\n",
    "    return Button(description=description, button_style=button_style, layout=Layout(height='auto', width='auto'))\n",
    "\n",
    "header_button = create_expanded_button('Header', 'success')\n",
    "left_button = create_expanded_button('Left', 'info')\n",
    "center_button = create_expanded_button('Center', 'warning')\n",
    "right_button = create_expanded_button('Right', 'info')\n",
    "footer_button = create_expanded_button('Footer', 'success')\n",
    "\n",
    "AppLayout(header=header_button,\n",
    "          left_sidebar=left_button,\n",
    "          center=center_button,\n",
    "          right_sidebar=right_button,\n",
    "          footer=footer_button)\n",
    "```\n",
    "![caption](../figs/applayout.png)\n",
    "\n",
    "#### Grid Layout\n",
    "Cette [méthode](https://ipywidgets.readthedocs.io/en/stable/examples/Layout%20Templates.html#Grid-layout) permet une grande flexibilité des dispositions dans une grille N par M.\n",
    "\n",
    "```python\n",
    "from ipywidgets import AppLayout, Button, Layout\n",
    "def create_expanded_button(description, button_style):\n",
    "    return Button(description=description, button_style=button_style, layout=Layout(height='auto', width='auto'))\n",
    "\n",
    "grid = GridspecLayout(4, 3, height='300px')\n",
    "grid[:, 0] = create_expanded_button('Do', 'info')\n",
    "grid[:3, 1:] = create_expanded_button('You', 'success')\n",
    "grid[3, 1] = create_expanded_button('Like', 'warning')\n",
    "grid[3, 2] = create_expanded_button('Widgets', 'danger')\n",
    "grid\n",
    "```\n",
    "![caption](../figs/gridlayout.png)"
   ]
  },
  {
   "cell_type": "markdown",
   "metadata": {},
   "source": [
    "### Disposition de figure et widget\n",
    "Afin de combiner controles (les widgets) et vues (les figures) nous allons **emballer les figures dans un conteneur Output** qui permettra à nos figures d'exposer une API de widgets.\n",
    "Nous disposerons ensuite ces conteneurs de figures comme de simples widgets !\n",
    "\n",
    "##### Le conteneur Ouput\n",
    "\n",
    "Ce widget capture l'affichage d'une cellule Jupyter.\n",
    "On créé d'abord un widget de type Output,remarquez l'utilisation du paramètre layout "
   ]
  },
  {
   "cell_type": "code",
   "execution_count": null,
   "metadata": {},
   "outputs": [],
   "source": [
    "import ipywidgets\n",
    "import numpy as np\n",
    "import matplotlib.pyplot as plt"
   ]
  },
  {
   "cell_type": "code",
   "execution_count": null,
   "metadata": {},
   "outputs": [],
   "source": [
    "out = ipywidgets.Output(layout={'border': '1px solid black'})\n",
    "out"
   ]
  },
  {
   "cell_type": "markdown",
   "metadata": {},
   "source": [
    "Après la création du widget *Output* celui-ci est utilisé comme \"*context manager*\" dans lequel tout affichage sera capturé. Evaluez la cellule suivante et observé le résultat.\n",
    "Attention les contenus s'accumule dans un widget Ouput. On effacera son contenu avec la méthode `clear_output()`."
   ]
  },
  {
   "cell_type": "code",
   "execution_count": null,
   "metadata": {},
   "outputs": [],
   "source": [
    "with out:\n",
    "    for i in range(10):\n",
    "        print(i, 'Hello world!')"
   ]
  },
  {
   "cell_type": "markdown",
   "metadata": {},
   "source": [
    "Puisque tout affichage jupyter peut être capturé dans un ouptut on peut bien sur y mettre nos figures. Evaluez les cellules suivantes et observez le résultat."
   ]
  },
  {
   "cell_type": "code",
   "execution_count": null,
   "metadata": {},
   "outputs": [],
   "source": [
    "out2 = ipywidgets.Output(layout={'border': '1px solid green'})\n",
    "out2"
   ]
  },
  {
   "cell_type": "code",
   "execution_count": null,
   "metadata": {},
   "outputs": [],
   "source": [
    "import numpy as np\n",
    "out2.clear_output()\n",
    "x, y, = np.random.rand(2, 25)\n",
    "with out2:\n",
    "    fig = plt.figure()\n",
    "    fig.canvas.toolbar_visible=False\n",
    "    ax1 = fig.add_subplot(111)\n",
    "    col = ax1.scatter(x, y)"
   ]
  },
  {
   "cell_type": "markdown",
   "metadata": {},
   "source": [
    "### Une première application intégrant un scatter plot\n",
    "On peut donc désormais \n",
    "1. Créer des widgets de contrôle\n",
    "2. Creer des figures et les capturer dans des widgets outputs\n",
    "3. Définir les interactions contrôle-figures\n",
    "4. Disposer ces éléments dans le layout de notre choix.\n",
    "\n",
    "Un exemple ci dessous avec deux boutons et le scatter plot ci-dessus."
   ]
  },
  {
   "cell_type": "markdown",
   "metadata": {},
   "source": [
    "#### 1. Créer des widgets de contrôle"
   ]
  },
  {
   "cell_type": "code",
   "execution_count": null,
   "metadata": {},
   "outputs": [],
   "source": [
    "from ipywidgets import Button, ButtonStyle, Layout\n",
    "bLeft = Button(description=\"<<\", style=ButtonStyle(button_color='red'), layout=Layout(height='auto', width='auto'))\n",
    "bRight =  Button(description=\">>\", style=ButtonStyle(button_color='green'), layout=Layout(height='auto', width='auto'))"
   ]
  },
  {
   "cell_type": "markdown",
   "metadata": {},
   "source": [
    "#### 2. Creer des figures et les capturer dans des widgets outputs"
   ]
  },
  {
   "cell_type": "code",
   "execution_count": null,
   "metadata": {},
   "outputs": [],
   "source": [
    "from ipywidgets import Output\n",
    "outCenter = Output(layout={'border': '1px solid cyan'})\n",
    "#outCenter"
   ]
  },
  {
   "cell_type": "markdown",
   "metadata": {},
   "source": [
    "#### 3. Définir les interactions contrôle-figures"
   ]
  },
  {
   "cell_type": "code",
   "execution_count": null,
   "metadata": {},
   "outputs": [],
   "source": [
    "def updateLeft(bLeft):\n",
    "    col.set_color( [ 'tab:red' for  _ in x ] )\n",
    "\n",
    "def updateRight(bLeft):\n",
    "    col.set_color( [ 'tab:green' for  _ in x ] )\n",
    "\n",
    "bLeft.on_click(updateLeft)\n",
    "bRight.on_click(updateRight)"
   ]
  },
  {
   "cell_type": "markdown",
   "metadata": {},
   "source": [
    "#### 4. Disposer ces éléments dans le layout de notre choix."
   ]
  },
  {
   "cell_type": "code",
   "execution_count": null,
   "metadata": {},
   "outputs": [],
   "source": [
    "from ipywidgets import AppLayout\n",
    "\n",
    "app=AppLayout(header    = None,\n",
    "          left_sidebar  = bLeft,\n",
    "          center        = outCenter,\n",
    "          right_sidebar = bRight,\n",
    "          footer        = None)\n",
    "\n",
    "app"
   ]
  },
  {
   "cell_type": "code",
   "execution_count": null,
   "metadata": {},
   "outputs": [],
   "source": [
    "import numpy as np\n",
    "x, y, = np.random.rand(2, 25)\n",
    "\n",
    "with outCenter:\n",
    "    fig = plt.figure()\n",
    "    fig.canvas.toolbar_visible=False\n",
    "    ax1 = fig.add_subplot(111)\n",
    "    col = ax1.scatter(x, y)"
   ]
  },
  {
   "cell_type": "markdown",
   "metadata": {},
   "source": [
    "## Construisons un Volcano plot interactif\n",
    "\n",
    "Nous pouvons desormais construire un volcano plot interactif avec les spécifications suivantes:\n",
    "* un widget contiendrait la liste des pathway\n",
    "    * une interaction avec la liste mettra en évidence les protéines de ce pathway\n",
    "    * une interaction avec plusieurs éléments de la liste mettra en évidence les protéines de ces pathways\n",
    "* un slider permettant de modifier l'échelle en abscisse\n",
    "* un switch permettrait d'augmenter la taille des protéines impliquées dans des pathways à faible p-value\n",
    "\n",
    "A vous de jouer en proposant une interface combinant certains ou la totalité des widgets ou encore d'en proposer d'autres.\n",
    "\n",
    "Si vous en ressentez le besoin vous pouvez suivre les étapes suivantes. Sinon, vous êtes libre de procéder comme bon vous semble avec l'aide de l'encadrant."
   ]
  },
  {
   "cell_type": "markdown",
   "metadata": {},
   "source": [
    "## 1° Avant de commencer"
   ]
  },
  {
   "cell_type": "code",
   "execution_count": null,
   "metadata": {},
   "outputs": [],
   "source": [
    "import sys, os\n",
    "workDir = f\"{os.getcwd()}/..\"\n",
    "libDir = f\"{workDir}/lib\"\n",
    "dataDir= f\"{workDir}/data\" \n",
    "\n",
    "sys.path.append(libDir)"
   ]
  },
  {
   "cell_type": "markdown",
   "metadata": {},
   "source": [
    "##### Lecture des abondance et p-value des protéines\n",
    "\n",
    "on obtiendra:\n",
    "* données d'abondance\n",
    "* identifiants uniprot de toutes les protéines mesurées\n",
    "* liste des p-value des mesures\n"
   ]
  },
  {
   "cell_type": "code",
   "execution_count": null,
   "metadata": {},
   "outputs": [],
   "source": [
    "import pandas\n",
    "TCL_wt1 = pandas.read_csv(f\"{workDir}/TCL_wt1.tsv\", sep=\"\\t\",\n",
    "                          na_values='#VALEUR!',\n",
    "    dtype = {\n",
    "       \"Log2 Corrected Abundance Ratio\" : np.float64,\n",
    "       \"LOG10 Adj.P-val\" : np.float64\n",
    "    }).dropna()"
   ]
  },
  {
   "cell_type": "markdown",
   "metadata": {},
   "source": [
    "##### Lecture des résultats de l'analyse d'enrichissement en pathway du TP2\n",
    "Inspecter le dictionnaire pour vous familliariser avec sa structure."
   ]
  },
  {
   "cell_type": "code",
   "execution_count": null,
   "metadata": {},
   "outputs": [],
   "source": [
    "import json\n",
    "go_ora_data = []\n",
    "with open(f\"{dataDir}/ora/biological_process_ora.json\", 'r') as fp:\n",
    "    go_ora_data = json.load(fp)"
   ]
  },
  {
   "cell_type": "code",
   "execution_count": null,
   "metadata": {},
   "outputs": [],
   "source": [
    "go_ora_dict = { go[1] : {\n",
    "    'pvalue'   : go[0],\n",
    "    'proteins' : go[3],\n",
    "    'id'       : go[2]\n",
    "} for go in go_ora_data }\n",
    "go_ora_dict"
   ]
  },
  {
   "cell_type": "markdown",
   "metadata": {},
   "source": [
    "### Elements du scatter plot\n",
    "\n",
    "#### Visualisation des abondances et Pathway pour chaque protéine\n",
    "Nous allons représenter la relation entre l'abondance des protéines (**Log2 Corrected Abundance Ratio**)  et la précision de la mesure (**LOG10 Adj.P-val**). \n",
    "###### Creation du scatter plot\n",
    "[matplotlib.axes.Axes.scatter()](https://matplotlib.org/3.1.1/api/_as_gen/matplotlib.axes.Axes.scatter.html) permet d'intialiser le graphique.\n",
    "###### Modification continue du scatter plot\n",
    "Mais cette fonction retourne aussi un objet [PathCollection](https://matplotlib.org/3.1.1/api/collections_api.html) qui permet de modifier à posteriori le rendu des points du scatter plot."
   ]
  },
  {
   "cell_type": "markdown",
   "metadata": {},
   "source": [
    "## 2° Exemples de créations de widgets\n",
    "Afficher deux widgets construits à partir de la liste de pathway analysés:\n",
    "* [`SelectMultiple`](https://ipywidgets.readthedocs.io/en/latest/examples/Widget%20List.html#SelectMultiple)\n",
    "* [`Dropdown`](https://ipywidgets.readthedocs.io/en/latest/examples/Widget%20List.html#Dropdown)\n",
    "\n",
    "Afficher un ou plusieurs widgets controlant la plage de valeurs d'abondance à représenter sur le volcano plot\n",
    "* [`Numeric-widgets`](https://ipywidgets.readthedocs.io/en/latest/examples/Widget%20List.html#Numeric-widgets)"
   ]
  },
  {
   "cell_type": "code",
   "execution_count": null,
   "metadata": {},
   "outputs": [],
   "source": [
    "ipywidgets.SelectMultiple(\n",
    "    options=[ go_term[1] for go_term in go_ora_data ],\n",
    "    description='GO pathways',\n",
    "    disabled=False\n",
    ")"
   ]
  },
  {
   "cell_type": "code",
   "execution_count": null,
   "metadata": {},
   "outputs": [],
   "source": [
    "ipywidgets.Dropdown(\n",
    "    options=[ go_term[1] for go_term in go_ora_data ],\n",
    "    description='GO pathways',\n",
    "    disabled=False\n",
    ")"
   ]
  },
  {
   "cell_type": "code",
   "execution_count": null,
   "metadata": {},
   "outputs": [],
   "source": [
    "abundance     = TCL_wt1[\"Log2 Corrected Abundance Ratio\"].tolist()\n",
    "pvalues       = TCL_wt1[\"LOG10 Adj.P-val\"].tolist()\n",
    "uniprot_ids   = TCL_wt1[\"Accession\"].tolist()\n",
    "_min = min(abundance)\n",
    "_max = max(abundance)\n",
    "ipywidgets.FloatRangeSlider(\n",
    "    value=[_min, _max],\n",
    "    min=_min,\n",
    "    max=_max,\n",
    "    step=0.1,\n",
    "    description='Abundance',\n",
    "    disabled=False,\n",
    "    continuous_update=False,\n",
    "    orientation='horizontal',\n",
    "    readout=True,\n",
    "    readout_format='.1f',\n",
    ")\n"
   ]
  },
  {
   "cell_type": "markdown",
   "metadata": {},
   "source": [
    "### 3° Création du widget Output\n",
    " * Création du conteneur\n",
    " * Création du scatter plot dans le contexte manager du conteneur"
   ]
  },
  {
   "cell_type": "code",
   "execution_count": null,
   "metadata": {},
   "outputs": [],
   "source": [
    "from ipywidgets import Output\n",
    "outScatter = Output(layout={'border': '1px solid cyan'})\n",
    "outScatter"
   ]
  },
  {
   "cell_type": "code",
   "execution_count": null,
   "metadata": {},
   "outputs": [],
   "source": [
    "with outScatter:\n",
    "    fig = plt.figure()\n",
    "    ax1 = fig.add_subplot(111)\n",
    "    col = ax1.scatter(abundance, pvalues)"
   ]
  },
  {
   "cell_type": "markdown",
   "metadata": {},
   "source": [
    "### 4° Définition des interactions widgets -- figure\n",
    "A l'aide :\n",
    "* De widgets bouton et select\n",
    "* D'un voclano plot matplotlib\n",
    "\n",
    "</br><span style=\"color:green\">$\\downarrow$ Evaluez la cellule ci-dessous pour construire les controles et la figure élémentaires</span>\n",
    "<h5>PUIS</h5>\n",
    "Dans une nouvelle cellule\n",
    "<br/><span style=\"color:firebrick;font-weight:bold\">$\\rhd$ Redirigez l'affichage de la figure dans un Ouput</span>\n",
    "<br/><span style=\"color:firebrick;font-weight:bold\">$\\rhd$ Implantez controle et Output dans un layout</span>\n",
    "<br/><span style=\"color:firebrick;font-weight:bold\">$\\rhd$ Ajoutez controles et/ou fonctionnalités de votre choix</span>"
   ]
  },
  {
   "cell_type": "code",
   "execution_count": null,
   "metadata": {},
   "outputs": [],
   "source": [
    "x,y, labels = (abundance, pvalues, uniprot_ids)\n",
    "fig = plt.figure()\n",
    "ax1 = fig.add_subplot(111)\n",
    "col = ax1.scatter(abundance, pvalues)\n",
    "\n",
    "\n",
    "dType = None\n",
    "\n",
    "pathway_labels = list(go_ora_dict.keys())\n",
    "\n",
    "def getColor(uniprot_id, pathway_label):\n",
    "    if uniprot_id in go_ora_dict[pathway_label]['proteins']:\n",
    "        return 'tab:red'\n",
    "    else:\n",
    "        return 'tab:grey'\n",
    "\n",
    "def getSize(uniprot_id, pathway_label, min_v = 10, max_v = 100):\n",
    "    if uniprot_id in go_ora_dict[pathway_label]['proteins']:\n",
    "        return max_v\n",
    "    else:\n",
    "        return min_v\n",
    "\n",
    "wid_button = ipywidgets.ToggleButtons(\n",
    "    options=['Color', 'Size', 'Both'],\n",
    "    description='Representation',\n",
    "    disabled=False,\n",
    "    button_style='', # 'success', 'info', 'warning', 'danger' or ''\n",
    "    tooltips=['Description of slow', 'Description of regular', 'Description of fast'],\n",
    ")\n",
    "\n",
    "wid_dropdown = ipywidgets.Dropdown(\n",
    "    options=pathway_labels,\n",
    "    description='Pathway:',\n",
    "    disabled=False,\n",
    ")\n",
    "\n",
    "def updateDropdown(w):\n",
    "    pathway_label =  w\n",
    "    newcolors = [ getColor(name, pathway_label) for name in labels ]\n",
    "    newsize = [ getSize(name, pathway_label) for name in labels ]\n",
    "    col.set_color(newcolors)\n",
    "    col.set_sizes(newsize)\n",
    "\n",
    "def updateToggle(w):\n",
    "    dType = w\n",
    "    print(dType)\n",
    "    \n",
    "interact(updateDropdown,w=wid_dropdown)\n",
    "interact(updateToggle, w=wid_button)"
   ]
  },
  {
   "cell_type": "code",
   "execution_count": null,
   "metadata": {},
   "outputs": [],
   "source": []
  }
 ],
 "metadata": {
  "kernelspec": {
   "display_name": "tp_proteomic",
   "language": "python",
   "name": "tp_proteomic"
  },
  "language_info": {
   "codemirror_mode": {
    "name": "ipython",
    "version": 3
   },
   "file_extension": ".py",
   "mimetype": "text/x-python",
   "name": "python",
   "nbconvert_exporter": "python",
   "pygments_lexer": "ipython3",
   "version": "3.8.5"
  }
 },
 "nbformat": 4,
 "nbformat_minor": 2
}
